{
 "cells": [
  {
   "cell_type": "markdown",
   "metadata": {},
   "source": [
    "# Completing Bach's famous unfinished fugue\n",
    "## Linear Regression for time series prediction"
   ]
  },
  {
   "cell_type": "code",
   "execution_count": 1,
   "metadata": {},
   "outputs": [],
   "source": [
    "import pandas as pd\n",
    "import numpy as np\n",
    "import matplotlib.pyplot as plt\n",
    "import operator\n",
    "import random\n",
    "import pickle\n",
    "\n",
    "from sklearn.linear_model import LinearRegression\n",
    "from sklearn.model_selection import TimeSeriesSplit\n",
    "from sklearn.metrics import mean_squared_error, r2_score, accuracy_score, f1_score, log_loss\n",
    "from scipy import stats\n",
    "from itertools import islice"
   ]
  },
  {
   "cell_type": "markdown",
   "metadata": {},
   "source": [
    "Set the seed for reproducing"
   ]
  },
  {
   "cell_type": "code",
   "execution_count": 2,
   "metadata": {},
   "outputs": [],
   "source": [
    "random.seed(2021)"
   ]
  },
  {
   "cell_type": "code",
   "execution_count": 3,
   "metadata": {},
   "outputs": [],
   "source": [
    "def bar_chart(X, set_X):\n",
    "    \n",
    "    notes = []\n",
    "    freq = []\n",
    "    for x in set_X:\n",
    "        notes.append(str(x))\n",
    "        freq.append(X.count(x))\n",
    "    \n",
    "    N = len(set_X)\n",
    "    ind = np.arange(N) # the x locations for the groups\n",
    "\n",
    "    fig = plt.figure()\n",
    "    ax = fig.add_axes([0,0,1,1])\n",
    "\n",
    "\n",
    "    ax.bar(ind, freq, 0.75)\n",
    "\n",
    "    ax.set_ylabel('Freq')\n",
    "    ax.set_xlabel('Notes')\n",
    "    ax.set_title('Frequency by note for a voice')\n",
    "    plt.xticks(ind, set_X)\n",
    "    steps = 100\n",
    "    ax.set_yticks(np.arange(0, max(freq)+steps, steps))\n",
    "    plt.show()"
   ]
  },
  {
   "cell_type": "code",
   "execution_count": 4,
   "metadata": {
    "scrolled": false
   },
   "outputs": [
    {
     "data": {
      "text/html": [
       "<div>\n",
       "<style scoped>\n",
       "    .dataframe tbody tr th:only-of-type {\n",
       "        vertical-align: middle;\n",
       "    }\n",
       "\n",
       "    .dataframe tbody tr th {\n",
       "        vertical-align: top;\n",
       "    }\n",
       "\n",
       "    .dataframe thead th {\n",
       "        text-align: right;\n",
       "    }\n",
       "</style>\n",
       "<table border=\"1\" class=\"dataframe\">\n",
       "  <thead>\n",
       "    <tr style=\"text-align: right;\">\n",
       "      <th></th>\n",
       "      <th>0</th>\n",
       "      <th>1</th>\n",
       "      <th>2</th>\n",
       "      <th>3</th>\n",
       "    </tr>\n",
       "  </thead>\n",
       "  <tbody>\n",
       "    <tr>\n",
       "      <th>0</th>\n",
       "      <td>0</td>\n",
       "      <td>0</td>\n",
       "      <td>0</td>\n",
       "      <td>0</td>\n",
       "    </tr>\n",
       "    <tr>\n",
       "      <th>1</th>\n",
       "      <td>0</td>\n",
       "      <td>0</td>\n",
       "      <td>0</td>\n",
       "      <td>0</td>\n",
       "    </tr>\n",
       "    <tr>\n",
       "      <th>2</th>\n",
       "      <td>0</td>\n",
       "      <td>0</td>\n",
       "      <td>0</td>\n",
       "      <td>0</td>\n",
       "    </tr>\n",
       "    <tr>\n",
       "      <th>3</th>\n",
       "      <td>0</td>\n",
       "      <td>0</td>\n",
       "      <td>0</td>\n",
       "      <td>0</td>\n",
       "    </tr>\n",
       "    <tr>\n",
       "      <th>4</th>\n",
       "      <td>0</td>\n",
       "      <td>0</td>\n",
       "      <td>0</td>\n",
       "      <td>0</td>\n",
       "    </tr>\n",
       "    <tr>\n",
       "      <th>...</th>\n",
       "      <td>...</td>\n",
       "      <td>...</td>\n",
       "      <td>...</td>\n",
       "      <td>...</td>\n",
       "    </tr>\n",
       "    <tr>\n",
       "      <th>3819</th>\n",
       "      <td>0</td>\n",
       "      <td>0</td>\n",
       "      <td>49</td>\n",
       "      <td>0</td>\n",
       "    </tr>\n",
       "    <tr>\n",
       "      <th>3820</th>\n",
       "      <td>0</td>\n",
       "      <td>0</td>\n",
       "      <td>51</td>\n",
       "      <td>0</td>\n",
       "    </tr>\n",
       "    <tr>\n",
       "      <th>3821</th>\n",
       "      <td>0</td>\n",
       "      <td>0</td>\n",
       "      <td>51</td>\n",
       "      <td>0</td>\n",
       "    </tr>\n",
       "    <tr>\n",
       "      <th>3822</th>\n",
       "      <td>0</td>\n",
       "      <td>0</td>\n",
       "      <td>54</td>\n",
       "      <td>0</td>\n",
       "    </tr>\n",
       "    <tr>\n",
       "      <th>3823</th>\n",
       "      <td>0</td>\n",
       "      <td>0</td>\n",
       "      <td>54</td>\n",
       "      <td>0</td>\n",
       "    </tr>\n",
       "  </tbody>\n",
       "</table>\n",
       "<p>3824 rows × 4 columns</p>\n",
       "</div>"
      ],
      "text/plain": [
       "      0  1   2  3\n",
       "0     0  0   0  0\n",
       "1     0  0   0  0\n",
       "2     0  0   0  0\n",
       "3     0  0   0  0\n",
       "4     0  0   0  0\n",
       "...  .. ..  .. ..\n",
       "3819  0  0  49  0\n",
       "3820  0  0  51  0\n",
       "3821  0  0  51  0\n",
       "3822  0  0  54  0\n",
       "3823  0  0  54  0\n",
       "\n",
       "[3824 rows x 4 columns]"
      ]
     },
     "execution_count": 4,
     "metadata": {},
     "output_type": "execute_result"
    }
   ],
   "source": [
    "dat = pd.read_csv(\"F.txt\", sep=\"\\t\", header=None)\n",
    "dat"
   ]
  },
  {
   "cell_type": "markdown",
   "metadata": {},
   "source": [
    "Select the voice range (0, 3)"
   ]
  },
  {
   "cell_type": "code",
   "execution_count": 5,
   "metadata": {},
   "outputs": [],
   "source": [
    "voice = 3"
   ]
  },
  {
   "cell_type": "code",
   "execution_count": 6,
   "metadata": {},
   "outputs": [
    {
     "name": "stdout",
     "output_type": "stream",
     "text": [
      "[0, 0, 0, 0, 0, 0, 0, 0, 42, 42]\n",
      "26 [0, 28, 30, 32, 33, 34, 35, 36, 37, 38, 39, 40, 41, 42, 43, 44, 45, 46, 47, 48, 49, 50, 51, 52, 53, 54]\n"
     ]
    },
    {
     "data": {
      "image/png": "[encoded data removed]",
      "text/plain": [
       "<Figure size 432x288 with 1 Axes>"
      ]
     },
     "metadata": {
      "needs_background": "light"
     },
     "output_type": "display_data"
    }
   ],
   "source": [
    "X = list(dat[voice])\n",
    "print(X[:10])\n",
    "set_X = list(set(X))\n",
    "print(len(set_X), set_X)\n",
    "\n",
    "# frequency per note in the voice\n",
    "bar_chart(X, set_X)"
   ]
  },
  {
   "cell_type": "markdown",
   "metadata": {},
   "source": [
    "Get the range, mode, mean probabilities per range for each note in the voice"
   ]
  },
  {
   "cell_type": "code",
   "execution_count": 7,
   "metadata": {
    "scrolled": false
   },
   "outputs": [
    {
     "name": "stdout",
     "output_type": "stream",
     "text": [
      "{'range': [8, 48, 4, 16, 48, 208, 4, 4, 4, 4, 4, 14, 4, 4, 4, 16, 4, 4, 160, 4, 4, 4, 4, 4, 4, 20], 'mode': 4, 'mean': 24, 'pd': {8: 0.04, 48: 0.08, 4: 0.65, 16: 0.08, 208: 0.04, 14: 0.04, 160: 0.04, 20: 0.04}}\n"
     ]
    }
   ],
   "source": [
    "len_dict = {}\n",
    "c = 0\n",
    "\n",
    "for idx, x in enumerate(X):\n",
    "    if x not in len_dict.keys():\n",
    "        len_dict[x] = []\n",
    "    if idx == 0:\n",
    "        c += 1\n",
    "    elif x == X[idx-1]:\n",
    "        c += 1\n",
    "    else:\n",
    "        len_dict[X[idx-1]].append(c)\n",
    "        c = 1\n",
    "        \n",
    "for k,v in len_dict.items():\n",
    "    num = round(np.mean(v))\n",
    "    if num % 2 != 0:\n",
    "        num += 1\n",
    "    d = {}\n",
    "    for i in v:\n",
    "        d[i] = round(v.count(i)/len(v), 2)\n",
    "    len_dict[k] = {\"range\": v, \"mode\": stats.mode(v)[0][0], \"mean\": num, \"pd\": d}\n",
    "\n",
    "# example note: 0\n",
    "print(len_dict[0])"
   ]
  },
  {
   "cell_type": "markdown",
   "metadata": {},
   "source": [
    "Convert series of notes of length n to 1"
   ]
  },
  {
   "cell_type": "code",
   "execution_count": 8,
   "metadata": {},
   "outputs": [
    {
     "name": "stdout",
     "output_type": "stream",
     "text": [
      "[0, 42, 49, 47, 45, 47, 49, 42, 45, 39]\n"
     ]
    },
    {
     "data": {
      "image/png": "[encoded data removed]",
      "text/plain": [
       "<Figure size 432x288 with 1 Axes>"
      ]
     },
     "metadata": {
      "needs_background": "light"
     },
     "output_type": "display_data"
    }
   ],
   "source": [
    "X_one = []\n",
    "\n",
    "for idx, x in enumerate(X):\n",
    "    if idx == 0:\n",
    "        X_one.append(x)\n",
    "    elif x != X[idx-1]:\n",
    "        X_one.append(x)\n",
    "\n",
    "print(X_one[:10])\n",
    "X = X_one\n",
    "\n",
    "# frequency per note in the voice after transform\n",
    "bar_chart(X, set_X)"
   ]
  },
  {
   "cell_type": "code",
   "execution_count": 9,
   "metadata": {},
   "outputs": [],
   "source": [
    "def to_one_hot(set_X, x):\n",
    "    n = set_X.index(x)\n",
    "    return [1 if i==n else 0 for i in range(len(set_X))]"
   ]
  },
  {
   "cell_type": "markdown",
   "metadata": {},
   "source": [
    "Convert to one-hot vector"
   ]
  },
  {
   "cell_type": "code",
   "execution_count": 10,
   "metadata": {},
   "outputs": [],
   "source": [
    "X_one = [to_one_hot(set_X, x) for x in X]"
   ]
  },
  {
   "cell_type": "markdown",
   "metadata": {},
   "source": [
    "Add a sliding window with one-step forecasting"
   ]
  },
  {
   "cell_type": "code",
   "execution_count": 11,
   "metadata": {},
   "outputs": [
    {
     "name": "stdout",
     "output_type": "stream",
     "text": [
      "[[0 0 0 0 0 0 0 0 0 0 0 0 0 1 0 0 0 0 0 0 0 0 0 0 0 0]\n",
      " [0 0 0 0 0 0 0 0 0 0 0 0 0 0 0 0 0 0 0 0 1 0 0 0 0 0]]\n",
      "[[0 0 0 0 0 0 0 0 0 0 0 0 0 1 0 0 0 0 0 0 0 0 0 0 0 0]\n",
      " [0 0 0 0 0 0 0 0 0 0 0 0 0 0 0 0 0 0 0 0 1 0 0 0 0 0]]\n"
     ]
    }
   ],
   "source": [
    "X_t0 = np.array(X_one[:-1])\n",
    "y_t1 = np.array(X_one[1:])\n",
    "print(X_t0[1:3])\n",
    "print(y_t1[:2])"
   ]
  },
  {
   "cell_type": "code",
   "execution_count": 12,
   "metadata": {},
   "outputs": [],
   "source": [
    "reg = LinearRegression().fit(X_t0, y_t1)"
   ]
  },
  {
   "cell_type": "markdown",
   "metadata": {},
   "source": [
    "Sanity check on the last instance"
   ]
  },
  {
   "cell_type": "code",
   "execution_count": 13,
   "metadata": {},
   "outputs": [
    {
     "data": {
      "text/plain": [
       "array([ 8.05664062e-02, -4.77048956e-18,  7.32421875e-04, -2.13623047e-04,\n",
       "        1.43051147e-06, -9.53674316e-07,  1.66015625e-02,  1.95312500e-03,\n",
       "        5.46875000e-02,  1.85546875e-02, -3.90625000e-02,  2.69805908e-01,\n",
       "        3.90625000e-02,  2.34375000e-02,  1.48193359e-01,  1.83593750e-01,\n",
       "        2.63671875e-02, -4.88281250e-04,  8.98437500e-02,  2.44140625e-04,\n",
       "        6.56738281e-02,  3.12500000e-02,  4.88281250e-04, -1.83105469e-04,\n",
       "        3.46944695e-18,  1.60461922e-17])"
      ]
     },
     "execution_count": 13,
     "metadata": {},
     "output_type": "execute_result"
    }
   ],
   "source": [
    "reg.predict([X_t0[-1]])[0]"
   ]
  },
  {
   "cell_type": "markdown",
   "metadata": {},
   "source": [
    "Get the max probability from the probability output vector, then trace it back to the corresponding note via its index e.g."
   ]
  },
  {
   "cell_type": "code",
   "execution_count": 14,
   "metadata": {},
   "outputs": [
    {
     "data": {
      "text/plain": [
       "37"
      ]
     },
     "execution_count": 14,
     "metadata": {},
     "output_type": "execute_result"
    }
   ],
   "source": [
    "yhat = reg.predict([X_t0[49]])\n",
    "pred = set_X[yhat.tolist()[0].index(max(yhat.tolist()[0]))]\n",
    "pred"
   ]
  },
  {
   "cell_type": "code",
   "execution_count": 15,
   "metadata": {
    "scrolled": true
   },
   "outputs": [
    {
     "name": "stdout",
     "output_type": "stream",
     "text": [
      "Coefficients: \n",
      " [[ 1.92176186e+12  1.92176186e+12  1.92176186e+12  1.92176186e+12\n",
      "   1.92176186e+12  1.92176186e+12  1.92176186e+12  1.92176186e+12\n",
      "   1.92176186e+12  1.92176186e+12  1.92176186e+12  1.92176186e+12\n",
      "   1.92176186e+12  1.92176186e+12  1.92176186e+12  1.92176186e+12\n",
      "   1.92176186e+12  1.92176186e+12  1.92176186e+12  1.92176186e+12\n",
      "   1.92176186e+12  1.92176186e+12  1.92176186e+12  1.92176186e+12\n",
      "   1.92176186e+12  1.92176186e+12]\n",
      " [-1.94767125e-03 -1.94767125e-03  1.98052329e-01 -1.94767125e-03\n",
      "  -1.94767125e-03 -1.94767125e-03 -1.94767125e-03 -1.94767125e-03\n",
      "  -1.94767125e-03 -1.94767125e-03 -1.94767125e-03 -1.94767125e-03\n",
      "  -1.94767125e-03 -1.94767125e-03 -1.94767125e-03 -1.94767125e-03\n",
      "  -1.94767125e-03 -1.94767125e-03 -1.94767125e-03 -1.94767125e-03\n",
      "  -1.94767125e-03 -1.94767125e-03 -1.94767125e-03 -1.94767125e-03\n",
      "  -1.94767125e-03 -1.94767125e-03]\n",
      " [ 1.39550027e+12  1.39550027e+12  1.39550027e+12  1.39550027e+12\n",
      "   1.39550027e+12  1.39550027e+12  1.39550027e+12  1.39550027e+12\n",
      "   1.39550027e+12  1.39550027e+12  1.39550027e+12  1.39550027e+12\n",
      "   1.39550027e+12  1.39550027e+12  1.39550027e+12  1.39550027e+12\n",
      "   1.39550027e+12  1.39550027e+12  1.39550027e+12  1.39550027e+12\n",
      "   1.39550027e+12  1.39550027e+12  1.39550027e+12  1.39550027e+12\n",
      "   1.39550027e+12  1.39550027e+12]\n",
      " [-2.46457465e+11 -2.46457465e+11 -2.46457465e+11 -2.46457465e+11\n",
      "  -2.46457465e+11 -2.46457465e+11 -2.46457465e+11 -2.46457465e+11\n",
      "  -2.46457465e+11 -2.46457465e+11 -2.46457465e+11 -2.46457465e+11\n",
      "  -2.46457465e+11 -2.46457465e+11 -2.46457465e+11 -2.46457465e+11\n",
      "  -2.46457465e+11 -2.46457465e+11 -2.46457465e+11 -2.46457465e+11\n",
      "  -2.46457465e+11 -2.46457465e+11 -2.46457465e+11 -2.46457465e+11\n",
      "  -2.46457465e+11 -2.46457465e+11]\n",
      " [ 1.48215815e+09  1.48215815e+09  1.48215815e+09  1.48215815e+09\n",
      "   1.48215815e+09  1.48215815e+09  1.48215815e+09  1.48215815e+09\n",
      "   1.48215815e+09  1.48215815e+09  1.48215815e+09  1.48215815e+09\n",
      "   1.48215815e+09  1.48215815e+09  1.48215815e+09  1.48215815e+09\n",
      "   1.48215815e+09  1.48215815e+09  1.48215815e+09  1.48215815e+09\n",
      "   1.48215815e+09  1.48215815e+09  1.48215815e+09  1.48215815e+09\n",
      "   1.48215815e+09  1.48215815e+09]\n",
      " [-1.07793320e+09 -1.07793320e+09 -1.07793320e+09 -1.07793320e+09\n",
      "  -1.07793320e+09 -1.07793320e+09 -1.07793320e+09 -1.07793320e+09\n",
      "  -1.07793320e+09 -1.07793320e+09 -1.07793320e+09 -1.07793320e+09\n",
      "  -1.07793320e+09 -1.07793320e+09 -1.07793320e+09 -1.07793320e+09\n",
      "  -1.07793320e+09 -1.07793320e+09 -1.07793320e+09 -1.07793320e+09\n",
      "  -1.07793320e+09 -1.07793320e+09 -1.07793320e+09 -1.07793320e+09\n",
      "  -1.07793320e+09 -1.07793320e+09]\n",
      " [ 4.52824825e+12  4.52824825e+12  4.52824825e+12  4.52824825e+12\n",
      "   4.52824825e+12  4.52824825e+12  4.52824825e+12  4.52824825e+12\n",
      "   4.52824825e+12  4.52824825e+12  4.52824825e+12  4.52824825e+12\n",
      "   4.52824825e+12  4.52824825e+12  4.52824825e+12  4.52824825e+12\n",
      "   4.52824825e+12  4.52824825e+12  4.52824825e+12  4.52824825e+12\n",
      "   4.52824825e+12  4.52824825e+12  4.52824825e+12  4.52824825e+12\n",
      "   4.52824825e+12  4.52824825e+12]\n",
      " [ 1.39529815e+12  1.39529815e+12  1.39529815e+12  1.39529815e+12\n",
      "   1.39529815e+12  1.39529815e+12  1.39529815e+12  1.39529815e+12\n",
      "   1.39529815e+12  1.39529815e+12  1.39529815e+12  1.39529815e+12\n",
      "   1.39529815e+12  1.39529815e+12  1.39529815e+12  1.39529815e+12\n",
      "   1.39529815e+12  1.39529815e+12  1.39529815e+12  1.39529815e+12\n",
      "   1.39529815e+12  1.39529815e+12  1.39529815e+12  1.39529815e+12\n",
      "   1.39529815e+12  1.39529815e+12]\n",
      " [ 1.96513426e+13  1.96513426e+13  1.96513426e+13  1.96513426e+13\n",
      "   1.96513426e+13  1.96513426e+13  1.96513426e+13  1.96513426e+13\n",
      "   1.96513426e+13  1.96513426e+13  1.96513426e+13  1.96513426e+13\n",
      "   1.96513426e+13  1.96513426e+13  1.96513426e+13  1.96513426e+13\n",
      "   1.96513426e+13  1.96513426e+13  1.96513426e+13  1.96513426e+13\n",
      "   1.96513426e+13  1.96513426e+13  1.96513426e+13  1.96513426e+13\n",
      "   1.96513426e+13  1.96513426e+13]\n",
      " [ 5.85617045e+12  5.85617045e+12  5.85617045e+12  5.85617045e+12\n",
      "   5.85617045e+12  5.85617045e+12  5.85617045e+12  5.85617045e+12\n",
      "   5.85617045e+12  5.85617045e+12  5.85617045e+12  5.85617045e+12\n",
      "   5.85617045e+12  5.85617045e+12  5.85617045e+12  5.85617045e+12\n",
      "   5.85617045e+12  5.85617045e+12  5.85617045e+12  5.85617045e+12\n",
      "   5.85617045e+12  5.85617045e+12  5.85617045e+12  5.85617045e+12\n",
      "   5.85617045e+12  5.85617045e+12]\n",
      " [-4.96244604e+13 -4.96244604e+13 -4.96244604e+13 -4.96244604e+13\n",
      "  -4.96244604e+13 -4.96244604e+13 -4.96244604e+13 -4.96244604e+13\n",
      "  -4.96244604e+13 -4.96244604e+13 -4.96244604e+13 -4.96244604e+13\n",
      "  -4.96244604e+13 -4.96244604e+13 -4.96244604e+13 -4.96244604e+13\n",
      "  -4.96244604e+13 -4.96244604e+13 -4.96244604e+13 -4.96244604e+13\n",
      "  -4.96244604e+13 -4.96244604e+13 -4.96244604e+13 -4.96244604e+13\n",
      "  -4.96244604e+13 -4.96244604e+13]\n",
      " [ 2.14036685e+11  2.14036685e+11  2.14036685e+11  2.14036685e+11\n",
      "   2.14036685e+11  2.14036685e+11  2.14036685e+11  2.14036685e+11\n",
      "   2.14036685e+11  2.14036685e+11  2.14036685e+11  2.14036685e+11\n",
      "   2.14036685e+11  2.14036685e+11  2.14036685e+11  2.14036685e+11\n",
      "   2.14036685e+11  2.14036685e+11  2.14036685e+11  2.14036685e+11\n",
      "   2.14036685e+11  2.14036685e+11  2.14036685e+11  2.14036685e+11\n",
      "   2.14036685e+11  2.14036685e+11]\n",
      " [-6.61673840e+12 -6.61673840e+12 -6.61673840e+12 -6.61673840e+12\n",
      "  -6.61673840e+12 -6.61673840e+12 -6.61673840e+12 -6.61673840e+12\n",
      "  -6.61673840e+12 -6.61673840e+12 -6.61673840e+12 -6.61673840e+12\n",
      "  -6.61673840e+12 -6.61673840e+12 -6.61673840e+12 -6.61673840e+12\n",
      "  -6.61673840e+12 -6.61673840e+12 -6.61673840e+12 -6.61673840e+12\n",
      "  -6.61673840e+12 -6.61673840e+12 -6.61673840e+12 -6.61673840e+12\n",
      "  -6.61673840e+12 -6.61673840e+12]\n",
      " [ 1.71380147e+13  1.71380147e+13  1.71380147e+13  1.71380147e+13\n",
      "   1.71380147e+13  1.71380147e+13  1.71380147e+13  1.71380147e+13\n",
      "   1.71380147e+13  1.71380147e+13  1.71380147e+13  1.71380147e+13\n",
      "   1.71380147e+13  1.71380147e+13  1.71380147e+13  1.71380147e+13\n",
      "   1.71380147e+13  1.71380147e+13  1.71380147e+13  1.71380147e+13\n",
      "   1.71380147e+13  1.71380147e+13  1.71380147e+13  1.71380147e+13\n",
      "   1.71380147e+13  1.71380147e+13]\n",
      " [ 2.09639459e+12  2.09639459e+12  2.09639459e+12  2.09639459e+12\n",
      "   2.09639459e+12  2.09639459e+12  2.09639459e+12  2.09639459e+12\n",
      "   2.09639459e+12  2.09639459e+12  2.09639459e+12  2.09639459e+12\n",
      "   2.09639459e+12  2.09639459e+12  2.09639459e+12  2.09639459e+12\n",
      "   2.09639459e+12  2.09639459e+12  2.09639459e+12  2.09639459e+12\n",
      "   2.09639459e+12  2.09639459e+12  2.09639459e+12  2.09639459e+12\n",
      "   2.09639459e+12  2.09639459e+12]\n",
      " [-3.23320670e+13 -3.23320670e+13 -3.23320670e+13 -3.23320670e+13\n",
      "  -3.23320670e+13 -3.23320670e+13 -3.23320670e+13 -3.23320670e+13\n",
      "  -3.23320670e+13 -3.23320670e+13 -3.23320670e+13 -3.23320670e+13\n",
      "  -3.23320670e+13 -3.23320670e+13 -3.23320670e+13 -3.23320670e+13\n",
      "  -3.23320670e+13 -3.23320670e+13 -3.23320670e+13 -3.23320670e+13\n",
      "  -3.23320670e+13 -3.23320670e+13 -3.23320670e+13 -3.23320670e+13\n",
      "  -3.23320670e+13 -3.23320670e+13]\n",
      " [ 6.49987884e+12  6.49987884e+12  6.49987884e+12  6.49987884e+12\n",
      "   6.49987884e+12  6.49987884e+12  6.49987884e+12  6.49987884e+12\n",
      "   6.49987884e+12  6.49987884e+12  6.49987884e+12  6.49987884e+12\n",
      "   6.49987884e+12  6.49987884e+12  6.49987884e+12  6.49987884e+12\n",
      "   6.49987884e+12  6.49987884e+12  6.49987884e+12  6.49987884e+12\n",
      "   6.49987884e+12  6.49987884e+12  6.49987884e+12  6.49987884e+12\n",
      "   6.49987884e+12  6.49987884e+12]\n",
      " [-7.25649960e+11 -7.25649960e+11 -7.25649960e+11 -7.25649960e+11\n",
      "  -7.25649960e+11 -7.25649960e+11 -7.25649960e+11 -7.25649960e+11\n",
      "  -7.25649960e+11 -7.25649960e+11 -7.25649960e+11 -7.25649960e+11\n",
      "  -7.25649960e+11 -7.25649960e+11 -7.25649960e+11 -7.25649960e+11\n",
      "  -7.25649960e+11 -7.25649960e+11 -7.25649960e+11 -7.25649960e+11\n",
      "  -7.25649960e+11 -7.25649960e+11 -7.25649960e+11 -7.25649960e+11\n",
      "  -7.25649960e+11 -7.25649960e+11]\n",
      " [ 9.90625199e+12  9.90625199e+12  9.90625199e+12  9.90625199e+12\n",
      "   9.90625199e+12  9.90625199e+12  9.90625199e+12  9.90625199e+12\n",
      "   9.90625199e+12  9.90625199e+12  9.90625199e+12  9.90625199e+12\n",
      "   9.90625199e+12  9.90625199e+12  9.90625199e+12  9.90625199e+12\n",
      "   9.90625199e+12  9.90625199e+12  9.90625199e+12  9.90625199e+12\n",
      "   9.90625199e+12  9.90625199e+12  9.90625199e+12  9.90625199e+12\n",
      "   9.90625199e+12  9.90625199e+12]\n",
      " [ 3.26114877e+11  3.26114877e+11  3.26114877e+11  3.26114877e+11\n",
      "   3.26114877e+11  3.26114877e+11  3.26114877e+11  3.26114877e+11\n",
      "   3.26114877e+11  3.26114877e+11  3.26114877e+11  3.26114877e+11\n",
      "   3.26114877e+11  3.26114877e+11  3.26114877e+11  3.26114877e+11\n",
      "   3.26114877e+11  3.26114877e+11  3.26114877e+11  3.26114877e+11\n",
      "   3.26114877e+11  3.26114877e+11  3.26114877e+11  3.26114877e+11\n",
      "   3.26114877e+11  3.26114877e+11]\n",
      " [-1.77336985e+12 -1.77336985e+12 -1.77336985e+12 -1.77336985e+12\n",
      "  -1.77336985e+12 -1.77336985e+12 -1.77336985e+12 -1.77336985e+12\n",
      "  -1.77336985e+12 -1.77336985e+12 -1.77336985e+12 -1.77336985e+12\n",
      "  -1.77336985e+12 -1.77336985e+12 -1.77336985e+12 -1.77336985e+12\n",
      "  -1.77336985e+12 -1.77336985e+12 -1.77336985e+12 -1.77336985e+12\n",
      "  -1.77336985e+12 -1.77336985e+12 -1.77336985e+12 -1.77336985e+12\n",
      "  -1.77336985e+12 -1.77336985e+12]\n",
      " [ 1.96992378e+13  1.96992378e+13  1.96992378e+13  1.96992378e+13\n",
      "   1.96992378e+13  1.96992378e+13  1.96992378e+13  1.96992378e+13\n",
      "   1.96992378e+13  1.96992378e+13  1.96992378e+13  1.96992378e+13\n",
      "   1.96992378e+13  1.96992378e+13  1.96992378e+13  1.96992378e+13\n",
      "   1.96992378e+13  1.96992378e+13  1.96992378e+13  1.96992378e+13\n",
      "   1.96992378e+13  1.96992378e+13  1.96992378e+13  1.96992378e+13\n",
      "   1.96992378e+13  1.96992378e+13]\n",
      " [ 8.64143870e+11  8.64143870e+11  8.64143870e+11  8.64143870e+11\n",
      "   8.64143870e+11  8.64143870e+11  8.64143870e+11  8.64143870e+11\n",
      "   8.64143870e+11  8.64143870e+11  8.64143870e+11  8.64143870e+11\n",
      "   8.64143870e+11  8.64143870e+11  8.64143870e+11  8.64143870e+11\n",
      "   8.64143870e+11  8.64143870e+11  8.64143870e+11  8.64143870e+11\n",
      "   8.64143870e+11  8.64143870e+11  8.64143870e+11  8.64143870e+11\n",
      "   8.64143870e+11  8.64143870e+11]\n",
      " [-1.74056056e+11 -1.74056056e+11 -1.74056056e+11 -1.74056056e+11\n",
      "  -1.74056056e+11 -1.74056056e+11 -1.74056056e+11 -1.74056056e+11\n",
      "  -1.74056056e+11 -1.74056056e+11 -1.74056056e+11 -1.74056056e+11\n",
      "  -1.74056056e+11 -1.74056056e+11 -1.74056056e+11 -1.74056056e+11\n",
      "  -1.74056056e+11 -1.74056056e+11 -1.74056056e+11 -1.74056056e+11\n",
      "  -1.74056056e+11 -1.74056056e+11 -1.74056056e+11 -1.74056056e+11\n",
      "  -1.74056056e+11 -1.74056056e+11]\n",
      " [-4.98126605e-03 -4.98126605e-03 -4.98126605e-03 -4.98126605e-03\n",
      "  -4.98126605e-03 -4.98126605e-03 -4.98126605e-03 -4.98126605e-03\n",
      "  -4.98126605e-03 -4.98126605e-03 -4.98126605e-03 -4.98126605e-03\n",
      "  -4.98126605e-03 -4.98126605e-03 -4.98126605e-03 -4.98126605e-03\n",
      "  -4.98126605e-03 -4.98126605e-03 -4.98126605e-03 -4.98126605e-03\n",
      "  -4.98126605e-03 -4.98126605e-03  1.95018734e-01 -4.98126605e-03\n",
      "  -4.98126605e-03 -4.98126605e-03]\n",
      " [ 2.44594097e-03  2.44594097e-03  2.44594097e-03  2.44594097e-03\n",
      "   2.44594097e-03  2.44594097e-03  2.44594097e-03  2.44594097e-03\n",
      "   2.44594097e-03  2.44594097e-03  2.44594097e-03  2.44594097e-03\n",
      "   2.44594097e-03  2.44594097e-03  2.44594097e-03  2.44594097e-03\n",
      "   2.44594097e-03  2.44594097e-03  2.44594097e-03  2.44594097e-03\n",
      "   2.44594097e-03  2.44594097e-03  2.44594097e-03  2.44594097e-03\n",
      "   1.00244594e+00  2.44594097e-03]]\n",
      "Mean squared error: 75.83\n",
      "Coefficient of determination: 0.14\n"
     ]
    },
    {
     "data": {
      "image/png": "[encoded data removed]",
      "text/plain": [
       "<Figure size 432x288 with 1 Axes>"
      ]
     },
     "metadata": {},
     "output_type": "display_data"
    }
   ],
   "source": [
    "y_pred = [set_X[y.tolist().index(max(y))] for y in reg.predict(X_t0)]\n",
    "y_test = [set_X[y.tolist().index(max(y))] for y in y_t1]\n",
    "\n",
    "# The coefficients\n",
    "print('Coefficients: \\n', reg.coef_)\n",
    "\n",
    "# The coefficient of determination: 1 is perfect prediction\n",
    "print('Coefficient of determination: %.2f'\n",
    "      % r2_score(y_test, y_pred))\n",
    "\n",
    "# Plot outputs\n",
    "plt.scatter(X[:-1], y_test,  color='black')\n",
    "plt.plot(X[:-1], y_pred, color='blue', linewidth=3)\n",
    "\n",
    "plt.xticks(())\n",
    "plt.yticks(())\n",
    "\n",
    "plt.show()"
   ]
  },
  {
   "cell_type": "markdown",
   "metadata": {},
   "source": [
    "Perform cross-validation for time series"
   ]
  },
  {
   "cell_type": "code",
   "execution_count": 16,
   "metadata": {
    "scrolled": true
   },
   "outputs": [
    {
     "name": "stdout",
     "output_type": "stream",
     "text": [
      "TimeSeriesSplit(max_train_size=None, n_splits=5)\n",
      "TRAIN: [0 ... 111] TEST: [112 ... 221]\n",
      "\t#MSE train\t49.53 #train log loss\t1.31 #train error\t0.42 #train acc\t0.46 #train f1\t0.3\n",
      "\t#MSE test\t49.85 #test log loss\t12.7 #test error\t-0.51 #test acc\t0.25 #test f1\t0.11\n",
      "TRAIN: [0 ... 221] TEST: [222 ... 331]\n",
      "\t#MSE train\t47.92 #train log loss\t1.5 #train error\t0.34 #train acc\t0.39 #train f1\t0.21\n",
      "\t#MSE test\t51.56 #test log loss\t6.31 #test error\t0.15 #test acc\t0.37 #test f1\t0.16\n",
      "TRAIN: [0 ... 331] TEST: [332 ... 441]\n",
      "\t#MSE train\t48.04 #train log loss\t1.56 #train error\t0.32 #train acc\t0.4 #train f1\t0.26\n",
      "\t#MSE test\t92.74 #test log loss\t8.24 #test error\t-0.18 #test acc\t0.22 #test f1\t0.09\n",
      "TRAIN: [0 ... 441] TEST: [442 ... 551]\n",
      "\t#MSE train\t56.42 #train log loss\t1.64 #train error\t0.21 #train acc\t0.37 #train f1\t0.25\n",
      "\t#MSE test\t77.05 #test log loss\t4.02 #test error\t0.05 #test acc\t0.41 #test f1\t0.22\n",
      "TRAIN: [0 ... 551] TEST: [552 ... 661]\n",
      "\t#MSE train\t59.15 #train log loss\t1.65 #train error\t0.2 #train acc\t0.38 #train f1\t0.24\n",
      "\t#MSE test\t146.27 #test log loss\t6.35 #test error\t0.0 #test acc\t0.29 #test f1\t0.16\n"
     ]
    }
   ],
   "source": [
    "tscv = TimeSeriesSplit()\n",
    "print(tscv)\n",
    "\n",
    "for train_index, test_index in tscv.split(X_t0):\n",
    "    print(f\"TRAIN: [{train_index[0]} ... {train_index[-1]}] TEST: [{test_index[0]} ... {test_index[-1]}]\")\n",
    "    X_train, X_test = X_t0[train_index], X_t0[test_index]\n",
    "    y_train, y_test = y_t1[train_index], y_t1[test_index]\n",
    "\n",
    "    reg = LinearRegression().fit(X_train, y_train)\n",
    "\n",
    "    y_pred_vec_train = reg.predict(X_train)\n",
    "    y_pred_train = [set_X[np.power(_y,3).tolist().index(max(np.power(_y,3)))] for _y in y_pred_vec_train]\n",
    "    y_train_notes = [set_X[_y.tolist().index(max(_y))] for _y in y_train]\n",
    "    \n",
    "    print(\n",
    "        f\"\\t#MSE train\\t{round(mean_squared_error(y_train_notes, y_pred_train),2)} \"\n",
    "          f\"#train log loss\\t{round(log_loss(y_train, y_pred_vec_train),2)} \"\n",
    "          f\"#train error\\t{round(reg.score(X_train, y_train),2)} \"\n",
    "          f\"#train acc\\t{round(accuracy_score(y_train_notes, y_pred_train),2)} \"\n",
    "          f\"#train f1\\t{round(f1_score(y_train_notes, y_pred_train, average='macro'), 2)}\"\n",
    "         )\n",
    "    \n",
    "    y_pred_vec_test = reg.predict(X_test)\n",
    "    y_pred_test = [set_X[np.power(_y,3).tolist().index(max(np.power(_y,3)))] for _y in y_pred_vec_test]\n",
    "    y_test_notes = [set_X[_y.tolist().index(max(_y))] for _y in y_test]\n",
    "\n",
    "    print(\n",
    "        f\"\\t#MSE test\\t{round(mean_squared_error(y_test_notes, y_pred_test),2)} \"\n",
    "          f\"#test log loss\\t{round(log_loss(y_test, y_pred_vec_test),2)} \"\n",
    "          f\"#test error\\t{round(reg.score(X_test, y_test),2)} \"\n",
    "          f\"#test acc\\t{round(accuracy_score(y_test_notes, y_pred_test),2)} \"\n",
    "          f\"#test f1\\t{round(f1_score(y_test_notes, y_pred_test, average='macro'),2)}\"\n",
    "         )"
   ]
  },
  {
   "cell_type": "markdown",
   "metadata": {},
   "source": [
    "Save the model to disk, in case we need quick access to it later."
   ]
  },
  {
   "cell_type": "code",
   "execution_count": null,
   "metadata": {},
   "outputs": [],
   "source": [
    "filename = f\"bach_{voice}.sav\"\n",
    "pickle.dump(reg, open(filename, 'wb'))"
   ]
  },
  {
   "cell_type": "markdown",
   "metadata": {},
   "source": [
    "Predict note in t+1 n times, starting from note in t+0."
   ]
  },
  {
   "cell_type": "code",
   "execution_count": 17,
   "metadata": {},
   "outputs": [
    {
     "data": {
      "text/plain": [
       "({0, 37, 40, 41, 43, 44, 45, 47, 49, 50},\n",
       " [37, 45, 0, 49, 40, 41, 41, 50, 44, 47])"
      ]
     },
     "execution_count": 17,
     "metadata": {},
     "output_type": "execute_result"
    }
   ],
   "source": [
    "preds_vec = np.array([X_t0[-1]])\n",
    "preds = []\n",
    "for i in range(100):\n",
    "    yhat = reg.predict(preds_vec[-1].reshape(1, -1))\n",
    "    # Pick note, add it\n",
    "    yhat_dict = dict(zip(set_X, yhat[0].tolist()))\n",
    "    yhat_dict_sorted = dict(sorted(yhat_dict.items(), key=operator.itemgetter(1),reverse=True))\n",
    "    top_n = list(islice(yhat_dict_sorted.items(), 10))\n",
    "    p = random.choice(top_n)[0]\n",
    "    preds.append(p)\n",
    "    np.concatenate((preds_vec, [to_one_hot(set_X, p)]))\n",
    "set(preds), preds[:10]"
   ]
  },
  {
   "cell_type": "markdown",
   "metadata": {},
   "source": [
    "Prolong/add range to the generated notes using a random weighted choice of all the ranges of that note present in the voice."
   ]
  },
  {
   "cell_type": "code",
   "execution_count": 18,
   "metadata": {},
   "outputs": [
    {
     "data": {
      "text/plain": [
       "(1460, [37, 37, 37, 37, 37, 37, 37, 37, 45, 45])"
      ]
     },
     "execution_count": 18,
     "metadata": {},
     "output_type": "execute_result"
    }
   ],
   "source": [
    "output = []\n",
    "for p in preds:\n",
    "    # Weighted choice\n",
    "    range_n = [p] * random.choice(len_dict[p][\"range\"]) * 2\n",
    "    output.extend(range_n)\n",
    "len(output), output[:10]"
   ]
  },
  {
   "cell_type": "code",
   "execution_count": 19,
   "metadata": {},
   "outputs": [
    {
     "data": {
      "text/html": [
       "<div>\n",
       "<style scoped>\n",
       "    .dataframe tbody tr th:only-of-type {\n",
       "        vertical-align: middle;\n",
       "    }\n",
       "\n",
       "    .dataframe tbody tr th {\n",
       "        vertical-align: top;\n",
       "    }\n",
       "\n",
       "    .dataframe thead th {\n",
       "        text-align: right;\n",
       "    }\n",
       "</style>\n",
       "<table border=\"1\" class=\"dataframe\">\n",
       "  <thead>\n",
       "    <tr style=\"text-align: right;\">\n",
       "      <th></th>\n",
       "      <th>0</th>\n",
       "    </tr>\n",
       "  </thead>\n",
       "  <tbody>\n",
       "    <tr>\n",
       "      <th>0</th>\n",
       "      <td>37</td>\n",
       "    </tr>\n",
       "    <tr>\n",
       "      <th>1</th>\n",
       "      <td>37</td>\n",
       "    </tr>\n",
       "    <tr>\n",
       "      <th>2</th>\n",
       "      <td>37</td>\n",
       "    </tr>\n",
       "    <tr>\n",
       "      <th>3</th>\n",
       "      <td>37</td>\n",
       "    </tr>\n",
       "    <tr>\n",
       "      <th>4</th>\n",
       "      <td>37</td>\n",
       "    </tr>\n",
       "    <tr>\n",
       "      <th>...</th>\n",
       "      <td>...</td>\n",
       "    </tr>\n",
       "    <tr>\n",
       "      <th>1455</th>\n",
       "      <td>43</td>\n",
       "    </tr>\n",
       "    <tr>\n",
       "      <th>1456</th>\n",
       "      <td>43</td>\n",
       "    </tr>\n",
       "    <tr>\n",
       "      <th>1457</th>\n",
       "      <td>43</td>\n",
       "    </tr>\n",
       "    <tr>\n",
       "      <th>1458</th>\n",
       "      <td>43</td>\n",
       "    </tr>\n",
       "    <tr>\n",
       "      <th>1459</th>\n",
       "      <td>43</td>\n",
       "    </tr>\n",
       "  </tbody>\n",
       "</table>\n",
       "<p>1460 rows × 1 columns</p>\n",
       "</div>"
      ],
      "text/plain": [
       "       0\n",
       "0     37\n",
       "1     37\n",
       "2     37\n",
       "3     37\n",
       "4     37\n",
       "...   ..\n",
       "1455  43\n",
       "1456  43\n",
       "1457  43\n",
       "1458  43\n",
       "1459  43\n",
       "\n",
       "[1460 rows x 1 columns]"
      ]
     },
     "execution_count": 19,
     "metadata": {},
     "output_type": "execute_result"
    }
   ],
   "source": [
    "df = pd.DataFrame(output)\n",
    "df"
   ]
  },
  {
   "cell_type": "markdown",
   "metadata": {},
   "source": [
    "Save the generated notes to a text file in csv format."
   ]
  },
  {
   "cell_type": "code",
   "execution_count": null,
   "metadata": {},
   "outputs": [],
   "source": [
    "f = f\"F_{voice}.txt\"\n",
    "df.to_csv(f, sep=\"\\t\", header=None, index=None)"
   ]
  }
 ],
 "metadata": {
  "kernelspec": {
   "display_name": "Python 3",
   "language": "python",
   "name": "python3"
  },
  "language_info": {
   "codemirror_mode": {
    "name": "ipython",
    "version": 3
   },
   "file_extension": ".py",
   "mimetype": "text/x-python",
   "name": "python",
   "nbconvert_exporter": "python",
   "pygments_lexer": "ipython3",
   "version": "3.8.5"
  }
 },
 "nbformat": 4,
 "nbformat_minor": 4
}
